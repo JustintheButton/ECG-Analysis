{
 "cells": [
  {
   "cell_type": "code",
   "execution_count": 1,
   "id": "785daaea",
   "metadata": {},
   "outputs": [],
   "source": [
    "import numpy as np\n",
    "import pandas as pd\n",
    "import matplotlib.pyplot as plt\n",
    "import seaborn as sns\n",
    "%matplotlib inline"
   ]
  },
  {
   "cell_type": "code",
   "execution_count": 2,
   "id": "b964e2eb",
   "metadata": {},
   "outputs": [],
   "source": [
    "df = pd.read_csv(r'C:\\Users\\Justin Huang\\Science Fair 2022-23/mitbih_train.csv',header=None)\n",
    "df_test= pd.read_csv(r'C:\\Users\\Justin Huang\\Science Fair 2022-23/mitbih_test.csv',header=None)"
   ]
  },
  {
   "cell_type": "code",
   "execution_count": 3,
   "id": "3a3ee1d2",
   "metadata": {},
   "outputs": [
    {
     "data": {
      "text/html": [
       "<div>\n",
       "<style scoped>\n",
       "    .dataframe tbody tr th:only-of-type {\n",
       "        vertical-align: middle;\n",
       "    }\n",
       "\n",
       "    .dataframe tbody tr th {\n",
       "        vertical-align: top;\n",
       "    }\n",
       "\n",
       "    .dataframe thead th {\n",
       "        text-align: right;\n",
       "    }\n",
       "</style>\n",
       "<table border=\"1\" class=\"dataframe\">\n",
       "  <thead>\n",
       "    <tr style=\"text-align: right;\">\n",
       "      <th></th>\n",
       "      <th>0</th>\n",
       "      <th>1</th>\n",
       "      <th>2</th>\n",
       "      <th>3</th>\n",
       "      <th>4</th>\n",
       "      <th>5</th>\n",
       "      <th>6</th>\n",
       "      <th>7</th>\n",
       "      <th>8</th>\n",
       "      <th>9</th>\n",
       "      <th>...</th>\n",
       "      <th>178</th>\n",
       "      <th>179</th>\n",
       "      <th>180</th>\n",
       "      <th>181</th>\n",
       "      <th>182</th>\n",
       "      <th>183</th>\n",
       "      <th>184</th>\n",
       "      <th>185</th>\n",
       "      <th>186</th>\n",
       "      <th>187</th>\n",
       "    </tr>\n",
       "  </thead>\n",
       "  <tbody>\n",
       "    <tr>\n",
       "      <th>0</th>\n",
       "      <td>0.977941</td>\n",
       "      <td>0.926471</td>\n",
       "      <td>0.681373</td>\n",
       "      <td>0.245098</td>\n",
       "      <td>0.154412</td>\n",
       "      <td>0.191176</td>\n",
       "      <td>0.151961</td>\n",
       "      <td>0.085784</td>\n",
       "      <td>0.058824</td>\n",
       "      <td>0.049020</td>\n",
       "      <td>...</td>\n",
       "      <td>0.0</td>\n",
       "      <td>0.0</td>\n",
       "      <td>0.0</td>\n",
       "      <td>0.0</td>\n",
       "      <td>0.0</td>\n",
       "      <td>0.0</td>\n",
       "      <td>0.0</td>\n",
       "      <td>0.0</td>\n",
       "      <td>0.0</td>\n",
       "      <td>0.0</td>\n",
       "    </tr>\n",
       "    <tr>\n",
       "      <th>1</th>\n",
       "      <td>0.960114</td>\n",
       "      <td>0.863248</td>\n",
       "      <td>0.461538</td>\n",
       "      <td>0.196581</td>\n",
       "      <td>0.094017</td>\n",
       "      <td>0.125356</td>\n",
       "      <td>0.099715</td>\n",
       "      <td>0.088319</td>\n",
       "      <td>0.074074</td>\n",
       "      <td>0.082621</td>\n",
       "      <td>...</td>\n",
       "      <td>0.0</td>\n",
       "      <td>0.0</td>\n",
       "      <td>0.0</td>\n",
       "      <td>0.0</td>\n",
       "      <td>0.0</td>\n",
       "      <td>0.0</td>\n",
       "      <td>0.0</td>\n",
       "      <td>0.0</td>\n",
       "      <td>0.0</td>\n",
       "      <td>0.0</td>\n",
       "    </tr>\n",
       "    <tr>\n",
       "      <th>2</th>\n",
       "      <td>1.000000</td>\n",
       "      <td>0.659459</td>\n",
       "      <td>0.186486</td>\n",
       "      <td>0.070270</td>\n",
       "      <td>0.070270</td>\n",
       "      <td>0.059459</td>\n",
       "      <td>0.056757</td>\n",
       "      <td>0.043243</td>\n",
       "      <td>0.054054</td>\n",
       "      <td>0.045946</td>\n",
       "      <td>...</td>\n",
       "      <td>0.0</td>\n",
       "      <td>0.0</td>\n",
       "      <td>0.0</td>\n",
       "      <td>0.0</td>\n",
       "      <td>0.0</td>\n",
       "      <td>0.0</td>\n",
       "      <td>0.0</td>\n",
       "      <td>0.0</td>\n",
       "      <td>0.0</td>\n",
       "      <td>0.0</td>\n",
       "    </tr>\n",
       "    <tr>\n",
       "      <th>3</th>\n",
       "      <td>0.925414</td>\n",
       "      <td>0.665746</td>\n",
       "      <td>0.541436</td>\n",
       "      <td>0.276243</td>\n",
       "      <td>0.196133</td>\n",
       "      <td>0.077348</td>\n",
       "      <td>0.071823</td>\n",
       "      <td>0.060773</td>\n",
       "      <td>0.066298</td>\n",
       "      <td>0.058011</td>\n",
       "      <td>...</td>\n",
       "      <td>0.0</td>\n",
       "      <td>0.0</td>\n",
       "      <td>0.0</td>\n",
       "      <td>0.0</td>\n",
       "      <td>0.0</td>\n",
       "      <td>0.0</td>\n",
       "      <td>0.0</td>\n",
       "      <td>0.0</td>\n",
       "      <td>0.0</td>\n",
       "      <td>0.0</td>\n",
       "    </tr>\n",
       "    <tr>\n",
       "      <th>4</th>\n",
       "      <td>0.967136</td>\n",
       "      <td>1.000000</td>\n",
       "      <td>0.830986</td>\n",
       "      <td>0.586854</td>\n",
       "      <td>0.356808</td>\n",
       "      <td>0.248826</td>\n",
       "      <td>0.145540</td>\n",
       "      <td>0.089202</td>\n",
       "      <td>0.117371</td>\n",
       "      <td>0.150235</td>\n",
       "      <td>...</td>\n",
       "      <td>0.0</td>\n",
       "      <td>0.0</td>\n",
       "      <td>0.0</td>\n",
       "      <td>0.0</td>\n",
       "      <td>0.0</td>\n",
       "      <td>0.0</td>\n",
       "      <td>0.0</td>\n",
       "      <td>0.0</td>\n",
       "      <td>0.0</td>\n",
       "      <td>0.0</td>\n",
       "    </tr>\n",
       "    <tr>\n",
       "      <th>...</th>\n",
       "      <td>...</td>\n",
       "      <td>...</td>\n",
       "      <td>...</td>\n",
       "      <td>...</td>\n",
       "      <td>...</td>\n",
       "      <td>...</td>\n",
       "      <td>...</td>\n",
       "      <td>...</td>\n",
       "      <td>...</td>\n",
       "      <td>...</td>\n",
       "      <td>...</td>\n",
       "      <td>...</td>\n",
       "      <td>...</td>\n",
       "      <td>...</td>\n",
       "      <td>...</td>\n",
       "      <td>...</td>\n",
       "      <td>...</td>\n",
       "      <td>...</td>\n",
       "      <td>...</td>\n",
       "      <td>...</td>\n",
       "      <td>...</td>\n",
       "    </tr>\n",
       "    <tr>\n",
       "      <th>87549</th>\n",
       "      <td>0.807018</td>\n",
       "      <td>0.494737</td>\n",
       "      <td>0.536842</td>\n",
       "      <td>0.529825</td>\n",
       "      <td>0.491228</td>\n",
       "      <td>0.484211</td>\n",
       "      <td>0.456140</td>\n",
       "      <td>0.396491</td>\n",
       "      <td>0.284211</td>\n",
       "      <td>0.136842</td>\n",
       "      <td>...</td>\n",
       "      <td>0.0</td>\n",
       "      <td>0.0</td>\n",
       "      <td>0.0</td>\n",
       "      <td>0.0</td>\n",
       "      <td>0.0</td>\n",
       "      <td>0.0</td>\n",
       "      <td>0.0</td>\n",
       "      <td>0.0</td>\n",
       "      <td>0.0</td>\n",
       "      <td>4.0</td>\n",
       "    </tr>\n",
       "    <tr>\n",
       "      <th>87550</th>\n",
       "      <td>0.718333</td>\n",
       "      <td>0.605000</td>\n",
       "      <td>0.486667</td>\n",
       "      <td>0.361667</td>\n",
       "      <td>0.231667</td>\n",
       "      <td>0.120000</td>\n",
       "      <td>0.051667</td>\n",
       "      <td>0.001667</td>\n",
       "      <td>0.000000</td>\n",
       "      <td>0.013333</td>\n",
       "      <td>...</td>\n",
       "      <td>0.0</td>\n",
       "      <td>0.0</td>\n",
       "      <td>0.0</td>\n",
       "      <td>0.0</td>\n",
       "      <td>0.0</td>\n",
       "      <td>0.0</td>\n",
       "      <td>0.0</td>\n",
       "      <td>0.0</td>\n",
       "      <td>0.0</td>\n",
       "      <td>4.0</td>\n",
       "    </tr>\n",
       "    <tr>\n",
       "      <th>87551</th>\n",
       "      <td>0.906122</td>\n",
       "      <td>0.624490</td>\n",
       "      <td>0.595918</td>\n",
       "      <td>0.575510</td>\n",
       "      <td>0.530612</td>\n",
       "      <td>0.481633</td>\n",
       "      <td>0.444898</td>\n",
       "      <td>0.387755</td>\n",
       "      <td>0.322449</td>\n",
       "      <td>0.191837</td>\n",
       "      <td>...</td>\n",
       "      <td>0.0</td>\n",
       "      <td>0.0</td>\n",
       "      <td>0.0</td>\n",
       "      <td>0.0</td>\n",
       "      <td>0.0</td>\n",
       "      <td>0.0</td>\n",
       "      <td>0.0</td>\n",
       "      <td>0.0</td>\n",
       "      <td>0.0</td>\n",
       "      <td>4.0</td>\n",
       "    </tr>\n",
       "    <tr>\n",
       "      <th>87552</th>\n",
       "      <td>0.858228</td>\n",
       "      <td>0.645570</td>\n",
       "      <td>0.845570</td>\n",
       "      <td>0.248101</td>\n",
       "      <td>0.167089</td>\n",
       "      <td>0.131646</td>\n",
       "      <td>0.121519</td>\n",
       "      <td>0.121519</td>\n",
       "      <td>0.118987</td>\n",
       "      <td>0.103797</td>\n",
       "      <td>...</td>\n",
       "      <td>0.0</td>\n",
       "      <td>0.0</td>\n",
       "      <td>0.0</td>\n",
       "      <td>0.0</td>\n",
       "      <td>0.0</td>\n",
       "      <td>0.0</td>\n",
       "      <td>0.0</td>\n",
       "      <td>0.0</td>\n",
       "      <td>0.0</td>\n",
       "      <td>4.0</td>\n",
       "    </tr>\n",
       "    <tr>\n",
       "      <th>87553</th>\n",
       "      <td>0.901506</td>\n",
       "      <td>0.845886</td>\n",
       "      <td>0.800695</td>\n",
       "      <td>0.748552</td>\n",
       "      <td>0.687138</td>\n",
       "      <td>0.599073</td>\n",
       "      <td>0.512167</td>\n",
       "      <td>0.427578</td>\n",
       "      <td>0.395133</td>\n",
       "      <td>0.402086</td>\n",
       "      <td>...</td>\n",
       "      <td>0.0</td>\n",
       "      <td>0.0</td>\n",
       "      <td>0.0</td>\n",
       "      <td>0.0</td>\n",
       "      <td>0.0</td>\n",
       "      <td>0.0</td>\n",
       "      <td>0.0</td>\n",
       "      <td>0.0</td>\n",
       "      <td>0.0</td>\n",
       "      <td>4.0</td>\n",
       "    </tr>\n",
       "  </tbody>\n",
       "</table>\n",
       "<p>87554 rows × 188 columns</p>\n",
       "</div>"
      ],
      "text/plain": [
       "            0         1         2         3         4         5         6    \\\n",
       "0      0.977941  0.926471  0.681373  0.245098  0.154412  0.191176  0.151961   \n",
       "1      0.960114  0.863248  0.461538  0.196581  0.094017  0.125356  0.099715   \n",
       "2      1.000000  0.659459  0.186486  0.070270  0.070270  0.059459  0.056757   \n",
       "3      0.925414  0.665746  0.541436  0.276243  0.196133  0.077348  0.071823   \n",
       "4      0.967136  1.000000  0.830986  0.586854  0.356808  0.248826  0.145540   \n",
       "...         ...       ...       ...       ...       ...       ...       ...   \n",
       "87549  0.807018  0.494737  0.536842  0.529825  0.491228  0.484211  0.456140   \n",
       "87550  0.718333  0.605000  0.486667  0.361667  0.231667  0.120000  0.051667   \n",
       "87551  0.906122  0.624490  0.595918  0.575510  0.530612  0.481633  0.444898   \n",
       "87552  0.858228  0.645570  0.845570  0.248101  0.167089  0.131646  0.121519   \n",
       "87553  0.901506  0.845886  0.800695  0.748552  0.687138  0.599073  0.512167   \n",
       "\n",
       "            7         8         9    ...  178  179  180  181  182  183  184  \\\n",
       "0      0.085784  0.058824  0.049020  ...  0.0  0.0  0.0  0.0  0.0  0.0  0.0   \n",
       "1      0.088319  0.074074  0.082621  ...  0.0  0.0  0.0  0.0  0.0  0.0  0.0   \n",
       "2      0.043243  0.054054  0.045946  ...  0.0  0.0  0.0  0.0  0.0  0.0  0.0   \n",
       "3      0.060773  0.066298  0.058011  ...  0.0  0.0  0.0  0.0  0.0  0.0  0.0   \n",
       "4      0.089202  0.117371  0.150235  ...  0.0  0.0  0.0  0.0  0.0  0.0  0.0   \n",
       "...         ...       ...       ...  ...  ...  ...  ...  ...  ...  ...  ...   \n",
       "87549  0.396491  0.284211  0.136842  ...  0.0  0.0  0.0  0.0  0.0  0.0  0.0   \n",
       "87550  0.001667  0.000000  0.013333  ...  0.0  0.0  0.0  0.0  0.0  0.0  0.0   \n",
       "87551  0.387755  0.322449  0.191837  ...  0.0  0.0  0.0  0.0  0.0  0.0  0.0   \n",
       "87552  0.121519  0.118987  0.103797  ...  0.0  0.0  0.0  0.0  0.0  0.0  0.0   \n",
       "87553  0.427578  0.395133  0.402086  ...  0.0  0.0  0.0  0.0  0.0  0.0  0.0   \n",
       "\n",
       "       185  186  187  \n",
       "0      0.0  0.0  0.0  \n",
       "1      0.0  0.0  0.0  \n",
       "2      0.0  0.0  0.0  \n",
       "3      0.0  0.0  0.0  \n",
       "4      0.0  0.0  0.0  \n",
       "...    ...  ...  ...  \n",
       "87549  0.0  0.0  4.0  \n",
       "87550  0.0  0.0  4.0  \n",
       "87551  0.0  0.0  4.0  \n",
       "87552  0.0  0.0  4.0  \n",
       "87553  0.0  0.0  4.0  \n",
       "\n",
       "[87554 rows x 188 columns]"
      ]
     },
     "execution_count": 3,
     "metadata": {},
     "output_type": "execute_result"
    }
   ],
   "source": [
    "df"
   ]
  },
  {
   "cell_type": "code",
   "execution_count": 4,
   "id": "acfad212",
   "metadata": {},
   "outputs": [],
   "source": [
    "#for i in range (87554):\n",
    "#   if df.iloc[i, 187] != 0:\n",
    "#        df.iloc[i, 187] = 1"
   ]
  },
  {
   "cell_type": "code",
   "execution_count": 5,
   "id": "20b4dd67",
   "metadata": {},
   "outputs": [],
   "source": [
    "from sklearn.utils import resample\n",
    "df_1=df_test[df_test[187]==1]\n",
    "df_2=df_test[df_test[187]==2]\n",
    "df_3=df_test[df_test[187]==3]\n",
    "df_4=df_test[df_test[187]==4]\n",
    "df_0=(df_test[df_test[187]==0]).sample(n=2000,random_state=42)\n",
    "#optimization spot\n",
    "df_1_upsample=resample(df_1,replace=True,n_samples=2000,random_state=42)\n",
    "df_2_upsample=resample(df_2,replace=True,n_samples=2000,random_state=42)\n",
    "df_3_upsample=resample(df_3,replace=True,n_samples=2000,random_state=42)\n",
    "df_4_upsample=resample(df_4,replace=True,n_samples=2000,random_state=42)\n",
    "\n",
    "df_test=pd.concat([df_0,df_1_upsample,df_2_upsample,df_3_upsample,df_4_upsample])"
   ]
  },
  {
   "cell_type": "code",
   "execution_count": 6,
   "id": "7c9b7d72",
   "metadata": {},
   "outputs": [],
   "source": [
    "#from sklearn.utils import resample\n",
    "#df_1=df_test[df_test[187]==1]\n",
    "\n",
    "#df_0=(df_test[df_test[187]==0]).sample(n=2000,random_state=42)\n",
    "#optimization spot\n",
    "#df_1_upsample=resample(df_1,replace=True,n_samples=2000,random_state=42)\n",
    "\n",
    "#df_test=pd.concat([df_0,df_1_upsample])"
   ]
  },
  {
   "cell_type": "code",
   "execution_count": 7,
   "id": "a9b0f90f",
   "metadata": {},
   "outputs": [],
   "source": [
    "from sklearn.utils import resample\n",
    "df_1t=df[df[187]==1]\n",
    "df_2t=df[df[187]==2]\n",
    "df_3t=df[df[187]==3]\n",
    "df_4t=df[df[187]==4]\n",
    "df_0t=(df[df[187]==0]).sample(n=2000,random_state=42)\n",
    "#optimization spot\n",
    "df_1_upsamplet=resample(df_1,replace=True,n_samples=2000,random_state=42)\n",
    "df_2_upsamplet=resample(df_2,replace=True,n_samples=2000,random_state=42)\n",
    "df_3_upsamplet=resample(df_3,replace=True,n_samples=2000,random_state=42)\n",
    "df_4_upsamplet=resample(df_4,replace=True,n_samples=2000,random_state=42)\n",
    "\n",
    "df=pd.concat([df_0t,df_1_upsamplet,df_2_upsamplet,df_3_upsamplet,df_4_upsamplet])"
   ]
  },
  {
   "cell_type": "code",
   "execution_count": 8,
   "id": "b2683a46",
   "metadata": {},
   "outputs": [],
   "source": [
    "#from sklearn.utils import resample\n",
    "#df_1t=df[df[187]==1]\n",
    "#df_0t=(df[df[187]==0]).sample(n=2000,random_state=42)\n",
    "#optimization spot\n",
    "#df_1_upsamplet=resample(df_1,replace=True,n_samples=2000,random_state=42)\n",
    "\n",
    "\n",
    "#df=pd.concat([df_0t,df_1_upsamplet])"
   ]
  },
  {
   "cell_type": "code",
   "execution_count": 9,
   "id": "6eb1c21d",
   "metadata": {},
   "outputs": [
    {
     "data": {
      "text/plain": [
       "12631    0.0\n",
       "11106    0.0\n",
       "14259    0.0\n",
       "3073     0.0\n",
       "5617     0.0\n",
       "        ... \n",
       "21300    4.0\n",
       "21239    4.0\n",
       "21009    4.0\n",
       "21297    4.0\n",
       "20784    4.0\n",
       "Name: 187, Length: 10000, dtype: float64"
      ]
     },
     "execution_count": 9,
     "metadata": {},
     "output_type": "execute_result"
    }
   ],
   "source": [
    "y = df[187]\n",
    "y_valid = df_test[187]\n",
    "df.pop(187)\n",
    "df_test.pop(187)"
   ]
  },
  {
   "cell_type": "code",
   "execution_count": 10,
   "id": "843babad",
   "metadata": {},
   "outputs": [],
   "source": [
    "from sklearn.pipeline import Pipeline\n",
    "from sklearn.compose import ColumnTransformer\n",
    "from sklearn.preprocessing import StandardScaler\n",
    "from sklearn.feature_selection import f_classif"
   ]
  },
  {
   "cell_type": "code",
   "execution_count": 11,
   "id": "22725d5e",
   "metadata": {},
   "outputs": [],
   "source": [
    "scaler=StandardScaler()"
   ]
  },
  {
   "cell_type": "code",
   "execution_count": 12,
   "id": "12f59176",
   "metadata": {},
   "outputs": [],
   "source": [
    "df = scaler.fit_transform(df)\n",
    "df = pd.DataFrame(df)\n",
    "df_test = scaler.transform(df_test)\n",
    "df_test = pd.DataFrame(df_test)"
   ]
  },
  {
   "cell_type": "code",
   "execution_count": 88,
   "id": "97c258f6",
   "metadata": {},
   "outputs": [],
   "source": [
    "import tensorflow \n",
    "from tensorflow import keras\n",
    "from keras.models import Sequential\n",
    "from keras.layers import Dense, Flatten\n",
    "from keras import optimizers\n",
    "import math\n",
    "\n",
    "\n",
    "model = keras.models.Sequential()\n",
    "model.add(keras.layers.Flatten(input_shape=df.shape[1:]))\n",
    "model.add(keras.layers.Dense(64,\n",
    "                                 kernel_initializer=\"lecun_normal\",\n",
    "                                 activation=\"ReLU\"))\n",
    "model.add(keras.layers.Dense(32,\n",
    "                                 kernel_initializer=\"lecun_normal\",\n",
    "                                 activation=\"ReLU\"))\n",
    "model.add(keras.layers.Dense(32,\n",
    "                                 kernel_initializer=\"lecun_normal\",\n",
    "                                 activation=\"ReLU\"))\n",
    "\n",
    "model.add(keras.layers.Dense(5, activation=\"softmax\"))\n",
    "\n",
    "optimizer=keras.optimizers.SGD(learning_rate=1e-2, momentum=0.9)\n",
    "model.compile(loss=\"sparse_categorical_crossentropy\", optimizer=optimizer, metrics=[\"accuracy\"])"
   ]
  },
  {
   "cell_type": "code",
   "execution_count": 89,
   "id": "6d024475",
   "metadata": {},
   "outputs": [
    {
     "name": "stdout",
     "output_type": "stream",
     "text": [
      "Epoch 1/100\n",
      "313/313 [==============================] - 1s 3ms/step - loss: 0.6966 - accuracy: 0.7318 - val_loss: 0.4413 - val_accuracy: 0.8392\n",
      "Epoch 2/100\n",
      "313/313 [==============================] - 1s 2ms/step - loss: 0.3811 - accuracy: 0.8579 - val_loss: 0.3060 - val_accuracy: 0.8906\n",
      "Epoch 3/100\n",
      "313/313 [==============================] - 1s 2ms/step - loss: 0.3032 - accuracy: 0.8910 - val_loss: 0.2750 - val_accuracy: 0.8954\n",
      "Epoch 4/100\n",
      "313/313 [==============================] - 1s 2ms/step - loss: 0.2458 - accuracy: 0.9094 - val_loss: 0.2647 - val_accuracy: 0.8972\n",
      "Epoch 5/100\n",
      "313/313 [==============================] - 1s 2ms/step - loss: 0.2184 - accuracy: 0.9210 - val_loss: 0.2090 - val_accuracy: 0.9260\n",
      "Epoch 6/100\n",
      "313/313 [==============================] - 1s 2ms/step - loss: 0.2044 - accuracy: 0.9280 - val_loss: 0.2101 - val_accuracy: 0.9222\n",
      "Epoch 7/100\n",
      "313/313 [==============================] - 1s 2ms/step - loss: 0.1797 - accuracy: 0.9358 - val_loss: 0.1579 - val_accuracy: 0.9471\n",
      "Epoch 8/100\n",
      "313/313 [==============================] - 1s 2ms/step - loss: 0.1468 - accuracy: 0.9476 - val_loss: 0.1492 - val_accuracy: 0.9461\n",
      "Epoch 9/100\n",
      "313/313 [==============================] - 1s 2ms/step - loss: 0.1253 - accuracy: 0.9563 - val_loss: 0.1829 - val_accuracy: 0.9384\n",
      "Epoch 10/100\n",
      "313/313 [==============================] - 1s 2ms/step - loss: 0.1372 - accuracy: 0.9532 - val_loss: 0.1466 - val_accuracy: 0.9530\n",
      "Epoch 11/100\n",
      "313/313 [==============================] - 1s 2ms/step - loss: 0.1193 - accuracy: 0.9588 - val_loss: 0.1743 - val_accuracy: 0.9419\n",
      "Epoch 12/100\n",
      "313/313 [==============================] - 1s 2ms/step - loss: 0.1082 - accuracy: 0.9632 - val_loss: 0.1206 - val_accuracy: 0.9634\n",
      "Epoch 13/100\n",
      "313/313 [==============================] - 1s 2ms/step - loss: 0.0870 - accuracy: 0.9710 - val_loss: 0.1257 - val_accuracy: 0.9598\n",
      "Epoch 14/100\n",
      "313/313 [==============================] - 1s 2ms/step - loss: 0.0951 - accuracy: 0.9673 - val_loss: 0.1276 - val_accuracy: 0.9595\n",
      "Epoch 15/100\n",
      "313/313 [==============================] - 1s 2ms/step - loss: 0.0773 - accuracy: 0.9743 - val_loss: 0.1045 - val_accuracy: 0.9673\n",
      "Epoch 16/100\n",
      "313/313 [==============================] - 1s 2ms/step - loss: 0.0825 - accuracy: 0.9742 - val_loss: 0.0996 - val_accuracy: 0.9694\n",
      "Epoch 17/100\n",
      "313/313 [==============================] - 1s 2ms/step - loss: 0.0659 - accuracy: 0.9780 - val_loss: 0.1108 - val_accuracy: 0.9664\n",
      "Epoch 18/100\n",
      "313/313 [==============================] - 1s 2ms/step - loss: 0.0832 - accuracy: 0.9723 - val_loss: 0.1161 - val_accuracy: 0.9625\n",
      "Epoch 19/100\n",
      "313/313 [==============================] - 1s 2ms/step - loss: 0.0817 - accuracy: 0.9747 - val_loss: 0.0968 - val_accuracy: 0.9695\n",
      "Epoch 20/100\n",
      "313/313 [==============================] - 1s 2ms/step - loss: 0.0533 - accuracy: 0.9832 - val_loss: 0.1145 - val_accuracy: 0.9626\n",
      "Epoch 21/100\n",
      "313/313 [==============================] - 1s 2ms/step - loss: 0.0669 - accuracy: 0.9775 - val_loss: 0.0994 - val_accuracy: 0.9689\n",
      "Epoch 22/100\n",
      "313/313 [==============================] - 1s 2ms/step - loss: 0.0594 - accuracy: 0.9816 - val_loss: 0.0929 - val_accuracy: 0.9777\n",
      "Epoch 23/100\n",
      "313/313 [==============================] - 1s 2ms/step - loss: 0.0511 - accuracy: 0.9833 - val_loss: 0.1056 - val_accuracy: 0.9762\n",
      "Epoch 24/100\n",
      "313/313 [==============================] - 1s 2ms/step - loss: 0.0492 - accuracy: 0.9836 - val_loss: 0.0963 - val_accuracy: 0.9743\n",
      "Epoch 25/100\n",
      "313/313 [==============================] - 1s 2ms/step - loss: 0.0645 - accuracy: 0.9803 - val_loss: 0.0949 - val_accuracy: 0.9750\n",
      "Epoch 26/100\n",
      "313/313 [==============================] - 1s 2ms/step - loss: 0.0566 - accuracy: 0.9823 - val_loss: 0.0921 - val_accuracy: 0.9738\n",
      "Epoch 27/100\n",
      "313/313 [==============================] - 1s 2ms/step - loss: 0.0396 - accuracy: 0.9870 - val_loss: 0.0966 - val_accuracy: 0.9752\n",
      "Epoch 28/100\n",
      "313/313 [==============================] - 1s 2ms/step - loss: 0.0427 - accuracy: 0.9857 - val_loss: 0.1069 - val_accuracy: 0.9733\n",
      "Epoch 29/100\n",
      "313/313 [==============================] - 1s 2ms/step - loss: 0.0345 - accuracy: 0.9887 - val_loss: 0.1254 - val_accuracy: 0.9699\n",
      "Epoch 30/100\n",
      "313/313 [==============================] - 1s 2ms/step - loss: 0.0381 - accuracy: 0.9883 - val_loss: 0.1008 - val_accuracy: 0.9776\n",
      "Epoch 31/100\n",
      "313/313 [==============================] - 1s 2ms/step - loss: 0.0370 - accuracy: 0.9878 - val_loss: 0.1055 - val_accuracy: 0.9717\n",
      "Epoch 32/100\n",
      "313/313 [==============================] - 1s 3ms/step - loss: 0.0274 - accuracy: 0.9914 - val_loss: 0.0826 - val_accuracy: 0.9793\n",
      "Epoch 33/100\n",
      "313/313 [==============================] - 1s 3ms/step - loss: 0.0349 - accuracy: 0.9879 - val_loss: 0.0833 - val_accuracy: 0.9758\n",
      "Epoch 34/100\n",
      "313/313 [==============================] - 1s 3ms/step - loss: 0.0232 - accuracy: 0.9926 - val_loss: 0.0883 - val_accuracy: 0.9786\n",
      "Epoch 35/100\n",
      "313/313 [==============================] - 1s 2ms/step - loss: 0.0198 - accuracy: 0.9941 - val_loss: 0.0889 - val_accuracy: 0.9787\n",
      "Epoch 36/100\n",
      "313/313 [==============================] - 1s 3ms/step - loss: 0.0136 - accuracy: 0.9960 - val_loss: 0.1070 - val_accuracy: 0.9769\n",
      "Epoch 37/100\n",
      "313/313 [==============================] - 1s 2ms/step - loss: 0.0249 - accuracy: 0.9930 - val_loss: 0.0821 - val_accuracy: 0.9802\n",
      "Epoch 38/100\n",
      "313/313 [==============================] - 1s 2ms/step - loss: 0.0151 - accuracy: 0.9951 - val_loss: 0.0919 - val_accuracy: 0.9769\n",
      "Epoch 39/100\n",
      "313/313 [==============================] - 1s 2ms/step - loss: 0.0176 - accuracy: 0.9942 - val_loss: 0.0794 - val_accuracy: 0.9812\n",
      "Epoch 40/100\n",
      "313/313 [==============================] - 1s 2ms/step - loss: 0.0110 - accuracy: 0.9968 - val_loss: 0.0641 - val_accuracy: 0.9862\n",
      "Epoch 41/100\n",
      "313/313 [==============================] - 1s 2ms/step - loss: 0.0093 - accuracy: 0.9972 - val_loss: 0.1036 - val_accuracy: 0.9790\n",
      "Epoch 42/100\n",
      "313/313 [==============================] - 1s 2ms/step - loss: 0.0122 - accuracy: 0.9966 - val_loss: 0.0796 - val_accuracy: 0.9802\n",
      "Epoch 43/100\n",
      "313/313 [==============================] - 1s 2ms/step - loss: 0.0741 - accuracy: 0.9807 - val_loss: 0.1306 - val_accuracy: 0.9658\n",
      "Epoch 44/100\n",
      "313/313 [==============================] - 1s 2ms/step - loss: 0.0987 - accuracy: 0.9709 - val_loss: 0.1032 - val_accuracy: 0.9734\n",
      "Epoch 45/100\n",
      "313/313 [==============================] - 1s 2ms/step - loss: 0.0565 - accuracy: 0.9831 - val_loss: 0.1362 - val_accuracy: 0.9664\n",
      "Epoch 46/100\n",
      "313/313 [==============================] - 1s 2ms/step - loss: 0.0628 - accuracy: 0.9815 - val_loss: 0.0844 - val_accuracy: 0.9771\n",
      "Epoch 47/100\n",
      "313/313 [==============================] - 1s 2ms/step - loss: 0.0181 - accuracy: 0.9948 - val_loss: 0.0904 - val_accuracy: 0.9782\n",
      "Epoch 48/100\n",
      "313/313 [==============================] - 1s 2ms/step - loss: 0.0263 - accuracy: 0.9932 - val_loss: 0.0650 - val_accuracy: 0.9845\n",
      "Epoch 49/100\n",
      "313/313 [==============================] - 1s 2ms/step - loss: 0.0139 - accuracy: 0.9965 - val_loss: 0.0731 - val_accuracy: 0.9829\n",
      "Epoch 50/100\n",
      "313/313 [==============================] - 1s 2ms/step - loss: 0.0058 - accuracy: 0.9988 - val_loss: 0.0798 - val_accuracy: 0.9828\n"
     ]
    }
   ],
   "source": [
    "    import keras.callbacks\n",
    "    early_stopping_cb = keras.callbacks.EarlyStopping(patience=10,\n",
    "                                                      restore_best_weights=True)\n",
    "    #onecycle = OneCycleScheduler(math.ceil(len(X) / 32) * 32, max_rate=0.05)\n",
    "\n",
    "\n",
    "    history=model.fit(df, y, epochs=100,\n",
    "              validation_data=(df_test,y_valid),\n",
    "              callbacks = early_stopping_cb, batch_size=32)# class_weight=class_weights)"
   ]
  },
  {
   "cell_type": "code",
   "execution_count": 90,
   "id": "b05eb011",
   "metadata": {},
   "outputs": [
    {
     "data": {
      "image/png": "[encoded data removed]",
      "text/plain": [
       "<Figure size 432x288 with 1 Axes>"
      ]
     },
     "metadata": {
      "needs_background": "light"
     },
     "output_type": "display_data"
    }
   ],
   "source": [
    "plt.plot(history.history['accuracy'])\n",
    "plt.plot(history.history['val_accuracy'])\n",
    "plt.title('model accuracy')\n",
    "plt.ylabel('accuracy')\n",
    "plt.xlabel('epoch')\n",
    "plt.legend(['train', 'val'], loc='upper left')\n",
    "plt.show()"
   ]
  },
  {
   "cell_type": "code",
   "execution_count": 91,
   "id": "8eb99937",
   "metadata": {},
   "outputs": [
    {
     "data": {
      "image/png": "[encoded data removed]",
      "text/plain": [
       "<Figure size 432x288 with 1 Axes>"
      ]
     },
     "metadata": {
      "needs_background": "light"
     },
     "output_type": "display_data"
    }
   ],
   "source": [
    "plt.plot(history.history['loss'])\n",
    "plt.plot(history.history['val_loss'])\n",
    "plt.title('model loss')\n",
    "plt.ylabel('loss')\n",
    "plt.xlabel('epoch')\n",
    "plt.legend(['train', 'val'], loc='upper left')\n",
    "plt.show()"
   ]
  },
  {
   "cell_type": "code",
   "execution_count": 92,
   "id": "f8e6049b",
   "metadata": {},
   "outputs": [],
   "source": [
    "from sklearn import datasets, metrics, model_selection, svm"
   ]
  },
  {
   "cell_type": "code",
   "execution_count": 93,
   "id": "1b718b3e",
   "metadata": {},
   "outputs": [
    {
     "name": "stdout",
     "output_type": "stream",
     "text": [
      "313/313 [==============================] - 0s 842us/step\n"
     ]
    }
   ],
   "source": [
    "predictions = model.predict(df_test)"
   ]
  },
  {
   "cell_type": "code",
   "execution_count": 94,
   "id": "1e64acb9",
   "metadata": {},
   "outputs": [
    {
     "data": {
      "text/plain": [
       "array([0, 0, 0, ..., 4, 4, 4], dtype=int64)"
      ]
     },
     "execution_count": 94,
     "metadata": {},
     "output_type": "execute_result"
    }
   ],
   "source": [
    "predictions=np.argmax(predictions, axis=1)\n",
    "predictions"
   ]
  },
  {
   "cell_type": "code",
   "execution_count": 95,
   "id": "1709c8f0",
   "metadata": {},
   "outputs": [
    {
     "name": "stdout",
     "output_type": "stream",
     "text": [
      "              precision    recall  f1-score   support\n",
      "\n",
      "         0.0       1.00      0.93      0.97      2000\n",
      "         1.0       0.97      1.00      0.98      2000\n",
      "         2.0       0.98      1.00      0.99      2000\n",
      "         3.0       0.99      1.00      0.99      2000\n",
      "         4.0       0.99      1.00      1.00      2000\n",
      "\n",
      "    accuracy                           0.99     10000\n",
      "   macro avg       0.99      0.99      0.99     10000\n",
      "weighted avg       0.99      0.99      0.99     10000\n",
      "\n"
     ]
    }
   ],
   "source": [
    "from sklearn.metrics import classification_report\n",
    "print(classification_report(y_valid, predictions))"
   ]
  },
  {
   "cell_type": "code",
   "execution_count": 96,
   "id": "30807f15",
   "metadata": {},
   "outputs": [
    {
     "name": "stdout",
     "output_type": "stream",
     "text": [
      "313/313 [==============================] - 0s 954us/step - loss: 0.0641 - accuracy: 0.9862\n"
     ]
    },
    {
     "data": {
      "text/plain": [
       "[0.06413202732801437, 0.9861999750137329]"
      ]
     },
     "execution_count": 96,
     "metadata": {},
     "output_type": "execute_result"
    }
   ],
   "source": [
    "model.evaluate(df_test, y_valid)"
   ]
  },
  {
   "cell_type": "code",
   "execution_count": 97,
   "id": "6af9c76f",
   "metadata": {},
   "outputs": [],
   "source": [
    "from sklearn.metrics import confusion_matrix"
   ]
  },
  {
   "cell_type": "code",
   "execution_count": 98,
   "id": "c1291c02",
   "metadata": {},
   "outputs": [
    {
     "data": {
      "text/plain": [
       "array([[1868,   62,   33,   26,   11],\n",
       "       [   0, 1998,    0,    0,    2],\n",
       "       [   0,    0, 1996,    4,    0],\n",
       "       [   0,    0,    0, 2000,    0],\n",
       "       [   0,    0,    0,    0, 2000]], dtype=int64)"
      ]
     },
     "execution_count": 98,
     "metadata": {},
     "output_type": "execute_result"
    }
   ],
   "source": [
    "confusion_matrix(y_valid, predictions)"
   ]
  },
  {
   "cell_type": "code",
   "execution_count": 99,
   "id": "62d4f0a1",
   "metadata": {},
   "outputs": [],
   "source": [
    "from sklearn.metrics import plot_confusion_matrix"
   ]
  },
  {
   "cell_type": "code",
   "execution_count": 100,
   "id": "8b7bdc82",
   "metadata": {},
   "outputs": [],
   "source": [
    "cm = confusion_matrix(y_valid, predictions)"
   ]
  },
  {
   "cell_type": "code",
   "execution_count": 101,
   "id": "d315e08e",
   "metadata": {},
   "outputs": [],
   "source": [
    "#ax= plt.subplot()\n",
    "#sns.heatmap(cm/20, annot=True, fmt='g', cmap = 'rocket_r', ax=ax);  \n",
    "#ax.set_xlabel('Predicted labels');ax.set_ylabel('True labels'); \n",
    "#ax.set_title('Confusion Matrix'); \n",
    "#ax.xaxis.set_ticklabels(['0', '1']); ax.yaxis.set_ticklabels(['0', '1']);"
   ]
  },
  {
   "cell_type": "code",
   "execution_count": 102,
   "id": "9b67f4cb",
   "metadata": {},
   "outputs": [
    {
     "data": {
      "image/png": "[encoded data removed]",
      "text/plain": [
       "<Figure size 432x288 with 2 Axes>"
      ]
     },
     "metadata": {
      "needs_background": "light"
     },
     "output_type": "display_data"
    }
   ],
   "source": [
    "ax= plt.subplot()\n",
    "sns.heatmap(cm/20, annot=True, fmt='g', cmap = 'rocket_r', ax=ax);  \n",
    "ax.set_xlabel('Predicted labels');ax.set_ylabel('True labels'); \n",
    "ax.set_title('Confusion Matrix'); \n",
    "ax.xaxis.set_ticklabels(['0', '1', '2', '3', '4']); ax.yaxis.set_ticklabels(['0', '1', '2', '3', '4']);"
   ]
  },
  {
   "cell_type": "code",
   "execution_count": null,
   "id": "dc64936a",
   "metadata": {},
   "outputs": [],
   "source": []
  }
 ],
 "metadata": {
  "kernelspec": {
   "display_name": "Python 3 (ipykernel)",
   "language": "python",
   "name": "python3"
  },
  "language_info": {
   "codemirror_mode": {
    "name": "ipython",
    "version": 3
   },
   "file_extension": ".py",
   "mimetype": "text/x-python",
   "name": "python",
   "nbconvert_exporter": "python",
   "pygments_lexer": "ipython3",
   "version": "3.9.7"
  }
 },
 "nbformat": 4,
 "nbformat_minor": 5
}
