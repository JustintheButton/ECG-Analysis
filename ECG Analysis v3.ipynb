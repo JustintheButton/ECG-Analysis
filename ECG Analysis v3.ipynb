{
 "cells": [
  {
   "cell_type": "code",
   "execution_count": 1,
   "id": "785daaea",
   "metadata": {},
   "outputs": [],
   "source": [
    "import numpy as np\n",
    "import pandas as pd\n",
    "import matplotlib.pyplot as plt\n",
    "import seaborn as sns\n",
    "# Shows plots in jupyter notebook\n",
    "%matplotlib inline"
   ]
  },
  {
   "cell_type": "code",
   "execution_count": 2,
   "id": "b964e2eb",
   "metadata": {},
   "outputs": [],
   "source": [
    "df = pd.read_csv(r'C:\\Users\\Justin Huang\\Science Fair 2022-23/mitbih_train.csv',header=None)\n",
    "df_test= pd.read_csv(r'C:\\Users\\Justin Huang\\Science Fair 2022-23/mitbih_test.csv',header=None)"
   ]
  },
  {
   "cell_type": "code",
   "execution_count": 3,
   "id": "6eb1c21d",
   "metadata": {},
   "outputs": [
    {
     "data": {
      "text/plain": [
       "0        0.0\n",
       "1        0.0\n",
       "2        0.0\n",
       "3        0.0\n",
       "4        0.0\n",
       "        ... \n",
       "21887    4.0\n",
       "21888    4.0\n",
       "21889    4.0\n",
       "21890    4.0\n",
       "21891    4.0\n",
       "Name: 187, Length: 21892, dtype: float64"
      ]
     },
     "execution_count": 3,
     "metadata": {},
     "output_type": "execute_result"
    }
   ],
   "source": [
    "y = df[187]\n",
    "y_valid = df_test[187]\n",
    "df.pop(187)\n",
    "df_test.pop(187)"
   ]
  },
  {
   "cell_type": "code",
   "execution_count": 4,
   "id": "843babad",
   "metadata": {},
   "outputs": [],
   "source": [
    "from sklearn.pipeline import Pipeline\n",
    "from sklearn.compose import ColumnTransformer\n",
    "from sklearn.preprocessing import StandardScaler\n",
    "from sklearn.feature_selection import f_classif"
   ]
  },
  {
   "cell_type": "code",
   "execution_count": 5,
   "id": "22725d5e",
   "metadata": {},
   "outputs": [],
   "source": [
    "scaler=StandardScaler()"
   ]
  },
  {
   "cell_type": "code",
   "execution_count": 7,
   "id": "12f59176",
   "metadata": {},
   "outputs": [],
   "source": [
    "df = scaler.fit_transform(df)\n",
    "df = pd.DataFrame(df)\n",
    "df_test = scaler.transform(df_test)\n",
    "df_test = pd.DataFrame(df_test)"
   ]
  },
  {
   "cell_type": "code",
   "execution_count": 9,
   "id": "97c258f6",
   "metadata": {},
   "outputs": [],
   "source": [
    "import tensorflow \n",
    "from tensorflow import keras\n",
    "from keras.models import Sequential\n",
    "from keras.layers import Dense, Flatten\n",
    "from keras import optimizers\n",
    "import math\n",
    "\n",
    "\n",
    "model = keras.models.Sequential()\n",
    "model.add(keras.layers.Flatten(input_shape=df.shape[1:]))\n",
    "model.add(keras.layers.Dense(50,\n",
    "                                 kernel_initializer=\"lecun_normal\",\n",
    "                                 activation=\"selu\"))\n",
    "model.add(keras.layers.Dense(50,\n",
    "                                 kernel_initializer=\"lecun_normal\",\n",
    "                                 activation=\"selu\"))\n",
    "\n",
    "model.add(keras.layers.Dense(5, activation=\"softmax\"))\n",
    "\n",
    "optimizer=keras.optimizers.SGD(learning_rate=1e-2, momentum=0.9)\n",
    "model.compile(loss=\"sparse_categorical_crossentropy\", optimizer=optimizer, metrics=[\"accuracy\"])"
   ]
  },
  {
   "cell_type": "code",
   "execution_count": 10,
   "id": "6d024475",
   "metadata": {},
   "outputs": [
    {
     "name": "stdout",
     "output_type": "stream",
     "text": [
      "Epoch 1/100\n",
      "2737/2737 [==============================] - 4s 1ms/step - loss: 0.2017 - accuracy: 0.9450 - val_loss: 0.1946 - val_accuracy: 0.9402\n",
      "Epoch 2/100\n",
      "2737/2737 [==============================] - 4s 1ms/step - loss: 0.1387 - accuracy: 0.9628 - val_loss: 0.1253 - val_accuracy: 0.9676\n",
      "Epoch 3/100\n",
      "2737/2737 [==============================] - 4s 1ms/step - loss: 0.1174 - accuracy: 0.9673 - val_loss: 0.1266 - val_accuracy: 0.9668\n",
      "Epoch 4/100\n",
      "2737/2737 [==============================] - 4s 1ms/step - loss: 0.1047 - accuracy: 0.9711 - val_loss: 0.1062 - val_accuracy: 0.9701\n",
      "Epoch 5/100\n",
      "2737/2737 [==============================] - 4s 1ms/step - loss: 0.0984 - accuracy: 0.9722 - val_loss: 0.1100 - val_accuracy: 0.9699\n",
      "Epoch 6/100\n",
      "2737/2737 [==============================] - 4s 1ms/step - loss: 0.0923 - accuracy: 0.9737 - val_loss: 0.1052 - val_accuracy: 0.9711\n",
      "Epoch 7/100\n",
      "2737/2737 [==============================] - 4s 1ms/step - loss: 0.0872 - accuracy: 0.9754 - val_loss: 0.1120 - val_accuracy: 0.9700\n",
      "Epoch 8/100\n",
      "2737/2737 [==============================] - 4s 1ms/step - loss: 0.0838 - accuracy: 0.9763 - val_loss: 0.1010 - val_accuracy: 0.9733\n",
      "Epoch 9/100\n",
      "2737/2737 [==============================] - 4s 1ms/step - loss: 0.0787 - accuracy: 0.9774 - val_loss: 0.0999 - val_accuracy: 0.9728\n",
      "Epoch 10/100\n",
      "2737/2737 [==============================] - 4s 1ms/step - loss: 0.0772 - accuracy: 0.9773 - val_loss: 0.0993 - val_accuracy: 0.9747\n",
      "Epoch 11/100\n",
      "2737/2737 [==============================] - 4s 1ms/step - loss: 0.0742 - accuracy: 0.9781 - val_loss: 0.1042 - val_accuracy: 0.9735\n",
      "Epoch 12/100\n",
      "2737/2737 [==============================] - 4s 1ms/step - loss: 0.0725 - accuracy: 0.9788 - val_loss: 0.1073 - val_accuracy: 0.9733\n",
      "Epoch 13/100\n",
      "2737/2737 [==============================] - 4s 1ms/step - loss: 0.0691 - accuracy: 0.9797 - val_loss: 0.1238 - val_accuracy: 0.9676\n",
      "Epoch 14/100\n",
      "2737/2737 [==============================] - 4s 1ms/step - loss: 0.0681 - accuracy: 0.9799 - val_loss: 0.0983 - val_accuracy: 0.9753\n",
      "Epoch 15/100\n",
      "2737/2737 [==============================] - 4s 1ms/step - loss: 0.0648 - accuracy: 0.9809 - val_loss: 0.1047 - val_accuracy: 0.9752\n",
      "Epoch 16/100\n",
      "2737/2737 [==============================] - 4s 1ms/step - loss: 0.0657 - accuracy: 0.9800 - val_loss: 0.1081 - val_accuracy: 0.9736\n",
      "Epoch 17/100\n",
      "2737/2737 [==============================] - 4s 1ms/step - loss: 0.0641 - accuracy: 0.9809 - val_loss: 0.0968 - val_accuracy: 0.9764\n",
      "Epoch 18/100\n",
      "2737/2737 [==============================] - 4s 1ms/step - loss: 0.0625 - accuracy: 0.9812 - val_loss: 0.1112 - val_accuracy: 0.9737\n",
      "Epoch 19/100\n",
      "2737/2737 [==============================] - 4s 1ms/step - loss: 0.0610 - accuracy: 0.9817 - val_loss: 0.0958 - val_accuracy: 0.9766\n",
      "Epoch 20/100\n",
      "2737/2737 [==============================] - 4s 1ms/step - loss: 0.0598 - accuracy: 0.9820 - val_loss: 0.1012 - val_accuracy: 0.9757\n",
      "Epoch 21/100\n",
      "2737/2737 [==============================] - 4s 1ms/step - loss: 0.0586 - accuracy: 0.9821 - val_loss: 0.1083 - val_accuracy: 0.9728\n",
      "Epoch 22/100\n",
      "2737/2737 [==============================] - 4s 1ms/step - loss: 0.0564 - accuracy: 0.9827 - val_loss: 0.1013 - val_accuracy: 0.9762\n",
      "Epoch 23/100\n",
      "2737/2737 [==============================] - 4s 1ms/step - loss: 0.0573 - accuracy: 0.9829 - val_loss: 0.1043 - val_accuracy: 0.9760\n",
      "Epoch 24/100\n",
      "2737/2737 [==============================] - 4s 1ms/step - loss: 0.0567 - accuracy: 0.9824 - val_loss: 0.1102 - val_accuracy: 0.9756\n",
      "Epoch 25/100\n",
      "2737/2737 [==============================] - 4s 1ms/step - loss: 0.0551 - accuracy: 0.9833 - val_loss: 0.1171 - val_accuracy: 0.9741\n",
      "Epoch 26/100\n",
      "2737/2737 [==============================] - 4s 1ms/step - loss: 0.0517 - accuracy: 0.9838 - val_loss: 0.1088 - val_accuracy: 0.9747\n",
      "Epoch 27/100\n",
      "2737/2737 [==============================] - 4s 1ms/step - loss: 0.0526 - accuracy: 0.9836 - val_loss: 0.0973 - val_accuracy: 0.9778\n",
      "Epoch 28/100\n",
      "2737/2737 [==============================] - 4s 1ms/step - loss: 0.0513 - accuracy: 0.9848 - val_loss: 0.1309 - val_accuracy: 0.9708\n",
      "Epoch 29/100\n",
      "2737/2737 [==============================] - 4s 1ms/step - loss: 0.0520 - accuracy: 0.9836 - val_loss: 0.1116 - val_accuracy: 0.9760\n"
     ]
    }
   ],
   "source": [
    "    import keras.callbacks\n",
    "    early_stopping_cb = keras.callbacks.EarlyStopping(patience=10,\n",
    "                                                      restore_best_weights=True)\n",
    "    #onecycle = OneCycleScheduler(math.ceil(len(X) / 32) * 32, max_rate=0.05)\n",
    "\n",
    "\n",
    "    history=model.fit(df, y, epochs=100,\n",
    "              validation_data=(df_test,y_valid),\n",
    "              callbacks = early_stopping_cb, batch_size=32)# class_weight=class_weights)"
   ]
  },
  {
   "cell_type": "code",
   "execution_count": 11,
   "id": "1b718b3e",
   "metadata": {},
   "outputs": [
    {
     "name": "stdout",
     "output_type": "stream",
     "text": [
      "685/685 [==============================] - 1s 829us/step\n"
     ]
    }
   ],
   "source": [
    "predictions = model.predict(df_test)"
   ]
  },
  {
   "cell_type": "code",
   "execution_count": 12,
   "id": "1e64acb9",
   "metadata": {},
   "outputs": [
    {
     "data": {
      "text/plain": [
       "array([0, 0, 0, ..., 4, 4, 4], dtype=int64)"
      ]
     },
     "execution_count": 12,
     "metadata": {},
     "output_type": "execute_result"
    }
   ],
   "source": [
    "predictions=np.argmax(predictions, axis=1)\n",
    "predictions"
   ]
  },
  {
   "cell_type": "code",
   "execution_count": 13,
   "id": "1709c8f0",
   "metadata": {},
   "outputs": [
    {
     "name": "stdout",
     "output_type": "stream",
     "text": [
      "              precision    recall  f1-score   support\n",
      "\n",
      "         0.0       0.98      0.99      0.99     18118\n",
      "         1.0       0.82      0.71      0.76       556\n",
      "         2.0       0.94      0.92      0.93      1448\n",
      "         3.0       0.82      0.72      0.76       162\n",
      "         4.0       0.97      0.98      0.97      1608\n",
      "\n",
      "    accuracy                           0.98     21892\n",
      "   macro avg       0.91      0.86      0.88     21892\n",
      "weighted avg       0.98      0.98      0.98     21892\n",
      "\n"
     ]
    }
   ],
   "source": [
    "from sklearn.metrics import classification_report\n",
    "print(classification_report(y_valid, predictions))"
   ]
  },
  {
   "cell_type": "code",
   "execution_count": 14,
   "id": "30807f15",
   "metadata": {},
   "outputs": [
    {
     "name": "stdout",
     "output_type": "stream",
     "text": [
      "685/685 [==============================] - 1s 977us/step - loss: 0.0958 - accuracy: 0.9766\n"
     ]
    },
    {
     "data": {
      "text/plain": [
       "[0.09576766192913055, 0.9765667915344238]"
      ]
     },
     "execution_count": 14,
     "metadata": {},
     "output_type": "execute_result"
    }
   ],
   "source": [
    "model.evaluate(df_test, y_valid)"
   ]
  },
  {
   "cell_type": "code",
   "execution_count": null,
   "id": "6af9c76f",
   "metadata": {},
   "outputs": [],
   "source": []
  }
 ],
 "metadata": {
  "kernelspec": {
   "display_name": "Python 3 (ipykernel)",
   "language": "python",
   "name": "python3"
  },
  "language_info": {
   "codemirror_mode": {
    "name": "ipython",
    "version": 3
   },
   "file_extension": ".py",
   "mimetype": "text/x-python",
   "name": "python",
   "nbconvert_exporter": "python",
   "pygments_lexer": "ipython3",
   "version": "3.9.7"
  }
 },
 "nbformat": 4,
 "nbformat_minor": 5
}
